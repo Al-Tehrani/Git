{
 "cells": [
  {
   "cell_type": "markdown",
   "id": "5b84a40d-2ce7-43f4-8881-a2b412b032ea",
   "metadata": {},
   "source": [
    "# Data Version Control\n",
    "\n",
    "- https://realpython.com/python-data-version-control/"
   ]
  },
  {
   "cell_type": "code",
   "execution_count": null,
   "id": "458f3b07-a2c0-4bb4-8cf1-17d5d3feb332",
   "metadata": {},
   "outputs": [],
   "source": []
  }
 ],
 "metadata": {
  "kernelspec": {
   "display_name": "Python 3 (ipykernel)",
   "language": "python",
   "name": "python3"
  },
  "language_info": {
   "codemirror_mode": {
    "name": "ipython",
    "version": 3
   },
   "file_extension": ".py",
   "mimetype": "text/x-python",
   "name": "python",
   "nbconvert_exporter": "python",
   "pygments_lexer": "ipython3",
   "version": "3.7.10"
  }
 },
 "nbformat": 4,
 "nbformat_minor": 5
}
